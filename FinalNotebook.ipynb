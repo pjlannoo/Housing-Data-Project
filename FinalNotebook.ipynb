{
 "cells": [
  {
   "cell_type": "markdown",
   "metadata": {},
   "source": [
    "# Housing Data Analysis"
   ]
  },
  {
   "cell_type": "markdown",
   "metadata": {},
   "source": [
    "## Overview\n",
    "We looked at housing data taken from King County, WA and made a linear regression model to predict the price of a house described by given inputs. Our analysis of the data and our intermediate models determined that **variables** were the most important features for predicting the price of a house."
   ]
  },
  {
   "cell_type": "markdown",
   "metadata": {},
   "source": [
    "## Business Understanding\n",
    "We were tasked with finding a way to predict an aproximate price of a house given some list of factors in order to ensure that our client isn't getting overcharged when buying a house."
   ]
  },
  {
   "cell_type": "markdown",
   "metadata": {},
   "source": [
    "## Data Exploration and Cleaning"
   ]
  },
  {
   "cell_type": "code",
   "execution_count": 1,
   "metadata": {},
   "outputs": [],
   "source": [
    "# Import relevant functions and libraries\n",
    "import pandas as pd\n",
    "import numpy as np\n",
    "import seaborn as sns\n",
    "import matplotlib.pyplot as plt\n",
    "import statsmodels.api as sm\n",
    "from sklearn.impute import SimpleImputer\n",
    "from sklearn.model_selection import train_test_split\n",
    "from sklearn.preprocessing import OneHotEncoder\n",
    "from sklearn.compose import ColumnTransformer\n",
    "from sklearn.preprocessing import StandardScaler, MinMaxScaler\n",
    "from sklearn.linear_model import LinearRegression\n",
    "from sklearn.metrics import r2_score, mean_squared_error, mean_absolute_error"
   ]
  },
  {
   "cell_type": "code",
   "execution_count": 2,
   "metadata": {},
   "outputs": [],
   "source": [
    "df = pd.read_csv('data/final_clean_data.csv')\n",
    "df = df.drop(columns=['Unnamed: 0','date'])"
   ]
  },
  {
   "cell_type": "code",
   "execution_count": 3,
   "metadata": {},
   "outputs": [],
   "source": [
    "x = df[['sqft_living', 'sqft_lot', 'floors', 'sqft_basement', 'yr_built', 'bedrooms', 'bathrooms', 'grade']]\n",
    "y = df['price']\n",
    "x_train, x_test, y_train, y_test = train_test_split(x, y, test_size=0.25, random_state = 23)"
   ]
  },
  {
   "cell_type": "markdown",
   "metadata": {},
   "source": [
    "***Data exploration and cleaning here***"
   ]
  },
  {
   "cell_type": "markdown",
   "metadata": {},
   "source": [
    "## Final Model"
   ]
  },
  {
   "cell_type": "markdown",
   "metadata": {},
   "source": [
    "Our final model used **variables** and accounted for **r2**% of the variance within the data. This model is limited by the dataset, since we filtered to only include houses with between **lower bound** and **higher bound** bedrooms, and only houses outside of **filtered zipcodes**. ***Include other filters***"
   ]
  },
  {
   "cell_type": "code",
   "execution_count": 4,
   "metadata": {},
   "outputs": [],
   "source": [
    "cat_cols = ['grade']\n",
    "encoder = OneHotEncoder(handle_unknown='error',drop='first',categories='auto')\n",
    "ct = ColumnTransformer(transformers=[('ohe', encoder, cat_cols)],remainder='passthrough',sparse_threshold=0)\n",
    "ct.fit(x_train)\n",
    "x_train_enc = ct.transform(x_train)"
   ]
  },
  {
   "cell_type": "code",
   "execution_count": 5,
   "metadata": {},
   "outputs": [],
   "source": [
    "scaler = StandardScaler()\n",
    "scaler.fit(x_train_enc)\n",
    "x_train_scaled = scaler.transform(x_train_enc)"
   ]
  },
  {
   "cell_type": "code",
   "execution_count": 6,
   "metadata": {},
   "outputs": [],
   "source": [
    "lr = LinearRegression()\n",
    "lr = lr.fit(x_train_scaled,y_train)"
   ]
  },
  {
   "cell_type": "code",
   "execution_count": 7,
   "metadata": {},
   "outputs": [],
   "source": [
    "mean_living= x_train['sqft_living'].mean()\n",
    "mean_lot = x_train['sqft_lot'].mean()\n",
    "median_floors = x_train['floors'].median()\n",
    "mean_basement = x_train['sqft_basement'].mean()\n",
    "median_yr = x_train['yr_built'].median()\n",
    "median_bedrooms = x_train['bedrooms'].median()\n",
    "median_bathrooms = x_train['bathrooms'].median()\n",
    "mode_grade = x_train['grade'].mode().values[0]"
   ]
  },
  {
   "cell_type": "code",
   "execution_count": 15,
   "metadata": {},
   "outputs": [],
   "source": [
    "def take_inputs():\n",
    "    living_val = input(\"Enter the square foot living area of the house:\\t\")\n",
    "    lot_val = input(\"Enter the square foot lot area of the house:\\t\")\n",
    "    floors_val = input(\"Enter the number of floors the house has:\\t\")\n",
    "    basement_val = input(\"Enter the square foot basement area of the house:\\t\")\n",
    "    yr_val = input(\"Enter the year the house was built:\\t\")\n",
    "    bedrooms_val = input(\"Enter the number of bedrooms in the house:\\t\")\n",
    "    bathrooms_val = input(\"Enter the number of bathrooms in the house:\\t\")\n",
    "    grade_val = str(input(\"Enter the grade of the house:\\t\"))\n",
    "    \n",
    "    \n",
    "    for unique_grade in [*x_train['grade'].value_counts().index]:\n",
    "        if str(grade_val) in unique_grade:\n",
    "            print(F\"Grade read as:\\t{unique_grade}\\n\")\n",
    "            grade_val = unique_grade\n",
    "    if grade_val not in [*x_train['grade'].value_counts().index]:\n",
    "        grade_val = mode_grade\n",
    "        print(\"Value not in model, using '7 Average' in place.\")\n",
    "    return [living_val, lot_val, floors_val, basement_val, yr_val, bedrooms_val, bathrooms_val, grade_val]"
   ]
  },
  {
   "cell_type": "code",
   "execution_count": 16,
   "metadata": {},
   "outputs": [],
   "source": [
    "def predict_price(fitted_ct,\n",
    "                  fitted_scaler,\n",
    "                  fitted_lr,\n",
    "                  sqft_living = mean_living,\n",
    "                  sqft_lot = mean_lot,\n",
    "                  floors = median_floors,\n",
    "                  sqft_basement = mean_basement,\n",
    "                  yr_built = median_yr,\n",
    "                  bedrooms = median_bedrooms,\n",
    "                  bathrooms = median_bathrooms,\n",
    "                  grade = mode_grade\n",
    "                 ):\n",
    "    '''\n",
    "    Takes in information about a house and uses the linear regression model, column transformer, and scaler passed to it\n",
    "    to predict the value of a house matching the values passed in.\n",
    "    If a value is not passed to the function it will use a measure of central tendency depending on the column.\n",
    "    '''\n",
    "    # create a single row dataframe to test the model on and get the price prediction\n",
    "    test_df = pd.DataFrame({'sqft_living': [sqft_living],\n",
    "                            'sqft_lot': [sqft_lot],\n",
    "                            'floors': [floors],\n",
    "                            'sqft_basement': sqft_basement,\n",
    "                            'yr_built':yr_built,\n",
    "                            'bedrooms': [bedrooms],\n",
    "                            'bathrooms': [bathrooms],\n",
    "                            'grade': [grade]\n",
    "                           })\n",
    "    print(\"Input data:\")\n",
    "    display(test_df)\n",
    "    # encode categorical values\n",
    "    test_df_enc = fitted_ct.transform(test_df)\n",
    "    \n",
    "    # scale data\n",
    "    test_df_scaled = fitted_scaler.transform(test_df_enc)\n",
    "    \n",
    "    # run the linear regression and return the prediction\n",
    "    prediction = lr.predict(test_df_scaled)\n",
    "    \n",
    "    print(F\"\\nPredicted price of this house:\\t{int(prediction[0])}.\")\n",
    "    return"
   ]
  },
  {
   "cell_type": "code",
   "execution_count": 20,
   "metadata": {},
   "outputs": [
    {
     "name": "stdout",
     "output_type": "stream",
     "text": [
      "Enter the square foot living area of the house:\t1\n",
      "Enter the square foot lot area of the house:\t1\n",
      "Enter the number of floors the house has:\t1\n",
      "Enter the square foot basement area of the house:\t1\n",
      "Enter the year the house was built:\t1\n",
      "Enter the number of bedrooms in the house:\t1\n",
      "Enter the number of bathrooms in the house:\t1\n",
      "Enter the grade of the house:\t1\n",
      "Grade read as:\t10 Very Good\n",
      "\n",
      "Input data:\n"
     ]
    },
    {
     "data": {
      "text/html": [
       "<div>\n",
       "<style scoped>\n",
       "    .dataframe tbody tr th:only-of-type {\n",
       "        vertical-align: middle;\n",
       "    }\n",
       "\n",
       "    .dataframe tbody tr th {\n",
       "        vertical-align: top;\n",
       "    }\n",
       "\n",
       "    .dataframe thead th {\n",
       "        text-align: right;\n",
       "    }\n",
       "</style>\n",
       "<table border=\"1\" class=\"dataframe\">\n",
       "  <thead>\n",
       "    <tr style=\"text-align: right;\">\n",
       "      <th></th>\n",
       "      <th>sqft_living</th>\n",
       "      <th>sqft_lot</th>\n",
       "      <th>floors</th>\n",
       "      <th>sqft_basement</th>\n",
       "      <th>yr_built</th>\n",
       "      <th>bedrooms</th>\n",
       "      <th>bathrooms</th>\n",
       "      <th>grade</th>\n",
       "    </tr>\n",
       "  </thead>\n",
       "  <tbody>\n",
       "    <tr>\n",
       "      <th>0</th>\n",
       "      <td>1</td>\n",
       "      <td>1</td>\n",
       "      <td>1</td>\n",
       "      <td>1</td>\n",
       "      <td>1</td>\n",
       "      <td>1</td>\n",
       "      <td>1</td>\n",
       "      <td>10 Very Good</td>\n",
       "    </tr>\n",
       "  </tbody>\n",
       "</table>\n",
       "</div>"
      ],
      "text/plain": [
       "  sqft_living sqft_lot floors sqft_basement yr_built bedrooms bathrooms  \\\n",
       "0           1        1      1             1        1        1         1   \n",
       "\n",
       "          grade  \n",
       "0  10 Very Good  "
      ]
     },
     "metadata": {},
     "output_type": "display_data"
    },
    {
     "name": "stdout",
     "output_type": "stream",
     "text": [
      "\n",
      "Predicted price of this house:\t7076963.\n"
     ]
    }
   ],
   "source": [
    "user_input = take_inputs()\n",
    "function_input = [ct,scaler,lr,*user_input]\n",
    "predict_price(*function_input)"
   ]
  },
  {
   "cell_type": "markdown",
   "metadata": {},
   "source": [
    "## Visualizations\n",
    "**To be filled in later**"
   ]
  },
  {
   "cell_type": "code",
   "execution_count": null,
   "metadata": {},
   "outputs": [],
   "source": []
  },
  {
   "cell_type": "markdown",
   "metadata": {},
   "source": [
    "## Conclusions"
   ]
  },
  {
   "cell_type": "code",
   "execution_count": null,
   "metadata": {},
   "outputs": [],
   "source": []
  }
 ],
 "metadata": {
  "kernelspec": {
   "display_name": "Python (learn-env)",
   "language": "python",
   "name": "learn-env"
  },
  "language_info": {
   "codemirror_mode": {
    "name": "ipython",
    "version": 3
   },
   "file_extension": ".py",
   "mimetype": "text/x-python",
   "name": "python",
   "nbconvert_exporter": "python",
   "pygments_lexer": "ipython3",
   "version": "3.8.5"
  }
 },
 "nbformat": 4,
 "nbformat_minor": 4
}
