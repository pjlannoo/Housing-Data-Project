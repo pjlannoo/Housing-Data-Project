{
 "cells": [
  {
   "cell_type": "code",
   "execution_count": 2,
   "metadata": {},
   "outputs": [],
   "source": [
    "import pandas as pd\n",
    "import numpy as np\n",
    "import seaborn as sns\n",
    "import matplotlib.pyplot as plt\n",
    "import statsmodels.api as sm\n",
    "from sklearn.impute import SimpleImputer\n",
    "from sklearn.model_selection import train_test_split\n",
    "from sklearn.preprocessing import OneHotEncoder\n",
    "from sklearn.compose import ColumnTransformer\n",
    "from sklearn.preprocessing import StandardScaler, MinMaxScaler\n",
    "from sklearn.linear_model import LinearRegression\n",
    "from sklearn.metrics import r2_score, mean_squared_error, mean_absolute_error"
   ]
  },
  {
   "cell_type": "code",
   "execution_count": 3,
   "metadata": {},
   "outputs": [],
   "source": [
    "df = pd.read_csv('../../data/clean_kc_house_data.csv')\n",
    "df = df.drop(columns=['Unnamed: 0','date'])"
   ]
  },
  {
   "cell_type": "code",
   "execution_count": 4,
   "metadata": {},
   "outputs": [],
   "source": [
    "x = df.drop(columns='price')\n",
    "y = df['price']\n",
    "x_train, x_test, y_train, y_test = train_test_split(x, y, test_size=0.25, random_state = 23)"
   ]
  },
  {
   "cell_type": "code",
   "execution_count": 5,
   "metadata": {},
   "outputs": [
    {
     "data": {
      "text/html": [
       "<div>\n",
       "<style scoped>\n",
       "    .dataframe tbody tr th:only-of-type {\n",
       "        vertical-align: middle;\n",
       "    }\n",
       "\n",
       "    .dataframe tbody tr th {\n",
       "        vertical-align: top;\n",
       "    }\n",
       "\n",
       "    .dataframe thead th {\n",
       "        text-align: right;\n",
       "    }\n",
       "</style>\n",
       "<table border=\"1\" class=\"dataframe\">\n",
       "  <thead>\n",
       "    <tr style=\"text-align: right;\">\n",
       "      <th></th>\n",
       "      <th>id</th>\n",
       "      <th>bedrooms</th>\n",
       "      <th>bathrooms</th>\n",
       "      <th>sqft_living</th>\n",
       "      <th>sqft_lot</th>\n",
       "      <th>floors</th>\n",
       "      <th>condition</th>\n",
       "      <th>grade</th>\n",
       "      <th>sqft_above</th>\n",
       "      <th>sqft_basement</th>\n",
       "      <th>yr_built</th>\n",
       "      <th>zipcode</th>\n",
       "      <th>lat</th>\n",
       "      <th>long</th>\n",
       "      <th>sqft_living15</th>\n",
       "      <th>sqft_lot15</th>\n",
       "    </tr>\n",
       "  </thead>\n",
       "  <tbody>\n",
       "    <tr>\n",
       "      <th>18108</th>\n",
       "      <td>8161000220</td>\n",
       "      <td>3</td>\n",
       "      <td>2.50</td>\n",
       "      <td>1860</td>\n",
       "      <td>21876</td>\n",
       "      <td>2.0</td>\n",
       "      <td>Average</td>\n",
       "      <td>8 Good</td>\n",
       "      <td>1860</td>\n",
       "      <td>0.0</td>\n",
       "      <td>1992</td>\n",
       "      <td>98014</td>\n",
       "      <td>47.6455</td>\n",
       "      <td>-121.901</td>\n",
       "      <td>2450</td>\n",
       "      <td>21876</td>\n",
       "    </tr>\n",
       "    <tr>\n",
       "      <th>20609</th>\n",
       "      <td>9542000075</td>\n",
       "      <td>3</td>\n",
       "      <td>1.75</td>\n",
       "      <td>2000</td>\n",
       "      <td>14733</td>\n",
       "      <td>1.0</td>\n",
       "      <td>Good</td>\n",
       "      <td>8 Good</td>\n",
       "      <td>2000</td>\n",
       "      <td>0.0</td>\n",
       "      <td>1958</td>\n",
       "      <td>98005</td>\n",
       "      <td>47.6001</td>\n",
       "      <td>-122.178</td>\n",
       "      <td>2620</td>\n",
       "      <td>14733</td>\n",
       "    </tr>\n",
       "    <tr>\n",
       "      <th>13874</th>\n",
       "      <td>6189200345</td>\n",
       "      <td>4</td>\n",
       "      <td>2.75</td>\n",
       "      <td>2260</td>\n",
       "      <td>12005</td>\n",
       "      <td>1.0</td>\n",
       "      <td>Good</td>\n",
       "      <td>8 Good</td>\n",
       "      <td>2260</td>\n",
       "      <td>0.0</td>\n",
       "      <td>1956</td>\n",
       "      <td>98005</td>\n",
       "      <td>47.6342</td>\n",
       "      <td>-122.171</td>\n",
       "      <td>1870</td>\n",
       "      <td>10800</td>\n",
       "    </tr>\n",
       "    <tr>\n",
       "      <th>3279</th>\n",
       "      <td>1433100010</td>\n",
       "      <td>4</td>\n",
       "      <td>1.00</td>\n",
       "      <td>1730</td>\n",
       "      <td>8706</td>\n",
       "      <td>1.0</td>\n",
       "      <td>Good</td>\n",
       "      <td>7 Average</td>\n",
       "      <td>1010</td>\n",
       "      <td>720.0</td>\n",
       "      <td>1962</td>\n",
       "      <td>98058</td>\n",
       "      <td>47.4586</td>\n",
       "      <td>-122.175</td>\n",
       "      <td>1369</td>\n",
       "      <td>8418</td>\n",
       "    </tr>\n",
       "    <tr>\n",
       "      <th>10398</th>\n",
       "      <td>3886901795</td>\n",
       "      <td>6</td>\n",
       "      <td>5.00</td>\n",
       "      <td>2850</td>\n",
       "      <td>6600</td>\n",
       "      <td>2.0</td>\n",
       "      <td>Average</td>\n",
       "      <td>7 Average</td>\n",
       "      <td>2850</td>\n",
       "      <td>0.0</td>\n",
       "      <td>1994</td>\n",
       "      <td>98033</td>\n",
       "      <td>47.6813</td>\n",
       "      <td>-122.187</td>\n",
       "      <td>1870</td>\n",
       "      <td>9900</td>\n",
       "    </tr>\n",
       "    <tr>\n",
       "      <th>...</th>\n",
       "      <td>...</td>\n",
       "      <td>...</td>\n",
       "      <td>...</td>\n",
       "      <td>...</td>\n",
       "      <td>...</td>\n",
       "      <td>...</td>\n",
       "      <td>...</td>\n",
       "      <td>...</td>\n",
       "      <td>...</td>\n",
       "      <td>...</td>\n",
       "      <td>...</td>\n",
       "      <td>...</td>\n",
       "      <td>...</td>\n",
       "      <td>...</td>\n",
       "      <td>...</td>\n",
       "      <td>...</td>\n",
       "    </tr>\n",
       "    <tr>\n",
       "      <th>6175</th>\n",
       "      <td>2473530100</td>\n",
       "      <td>4</td>\n",
       "      <td>2.50</td>\n",
       "      <td>2440</td>\n",
       "      <td>7155</td>\n",
       "      <td>2.0</td>\n",
       "      <td>Average</td>\n",
       "      <td>8 Good</td>\n",
       "      <td>2440</td>\n",
       "      <td>0.0</td>\n",
       "      <td>1993</td>\n",
       "      <td>98058</td>\n",
       "      <td>47.4501</td>\n",
       "      <td>-122.126</td>\n",
       "      <td>2450</td>\n",
       "      <td>8109</td>\n",
       "    </tr>\n",
       "    <tr>\n",
       "      <th>9704</th>\n",
       "      <td>3630220220</td>\n",
       "      <td>4</td>\n",
       "      <td>3.50</td>\n",
       "      <td>3060</td>\n",
       "      <td>4573</td>\n",
       "      <td>2.0</td>\n",
       "      <td>Average</td>\n",
       "      <td>9 Better</td>\n",
       "      <td>2410</td>\n",
       "      <td>650.0</td>\n",
       "      <td>2012</td>\n",
       "      <td>98029</td>\n",
       "      <td>47.5522</td>\n",
       "      <td>-122.001</td>\n",
       "      <td>3170</td>\n",
       "      <td>3634</td>\n",
       "    </tr>\n",
       "    <tr>\n",
       "      <th>11190</th>\n",
       "      <td>4123840310</td>\n",
       "      <td>3</td>\n",
       "      <td>2.50</td>\n",
       "      <td>1810</td>\n",
       "      <td>5192</td>\n",
       "      <td>2.0</td>\n",
       "      <td>Average</td>\n",
       "      <td>8 Good</td>\n",
       "      <td>1810</td>\n",
       "      <td>0.0</td>\n",
       "      <td>1993</td>\n",
       "      <td>98038</td>\n",
       "      <td>47.3724</td>\n",
       "      <td>-122.042</td>\n",
       "      <td>1810</td>\n",
       "      <td>6200</td>\n",
       "    </tr>\n",
       "    <tr>\n",
       "      <th>9256</th>\n",
       "      <td>3524039224</td>\n",
       "      <td>4</td>\n",
       "      <td>2.50</td>\n",
       "      <td>3520</td>\n",
       "      <td>6773</td>\n",
       "      <td>2.5</td>\n",
       "      <td>Average</td>\n",
       "      <td>9 Better</td>\n",
       "      <td>2650</td>\n",
       "      <td>870.0</td>\n",
       "      <td>2006</td>\n",
       "      <td>98136</td>\n",
       "      <td>47.5317</td>\n",
       "      <td>-122.391</td>\n",
       "      <td>2930</td>\n",
       "      <td>6458</td>\n",
       "    </tr>\n",
       "    <tr>\n",
       "      <th>8787</th>\n",
       "      <td>3345100184</td>\n",
       "      <td>3</td>\n",
       "      <td>1.75</td>\n",
       "      <td>2000</td>\n",
       "      <td>36000</td>\n",
       "      <td>1.0</td>\n",
       "      <td>Average</td>\n",
       "      <td>6 Low Average</td>\n",
       "      <td>2000</td>\n",
       "      <td>0.0</td>\n",
       "      <td>1946</td>\n",
       "      <td>98056</td>\n",
       "      <td>47.5217</td>\n",
       "      <td>-122.182</td>\n",
       "      <td>2100</td>\n",
       "      <td>9681</td>\n",
       "    </tr>\n",
       "  </tbody>\n",
       "</table>\n",
       "<p>15727 rows × 16 columns</p>\n",
       "</div>"
      ],
      "text/plain": [
       "               id  bedrooms  bathrooms  sqft_living  sqft_lot  floors  \\\n",
       "18108  8161000220         3       2.50         1860     21876     2.0   \n",
       "20609  9542000075         3       1.75         2000     14733     1.0   \n",
       "13874  6189200345         4       2.75         2260     12005     1.0   \n",
       "3279   1433100010         4       1.00         1730      8706     1.0   \n",
       "10398  3886901795         6       5.00         2850      6600     2.0   \n",
       "...           ...       ...        ...          ...       ...     ...   \n",
       "6175   2473530100         4       2.50         2440      7155     2.0   \n",
       "9704   3630220220         4       3.50         3060      4573     2.0   \n",
       "11190  4123840310         3       2.50         1810      5192     2.0   \n",
       "9256   3524039224         4       2.50         3520      6773     2.5   \n",
       "8787   3345100184         3       1.75         2000     36000     1.0   \n",
       "\n",
       "      condition          grade  sqft_above  sqft_basement  yr_built  zipcode  \\\n",
       "18108   Average         8 Good        1860            0.0      1992    98014   \n",
       "20609      Good         8 Good        2000            0.0      1958    98005   \n",
       "13874      Good         8 Good        2260            0.0      1956    98005   \n",
       "3279       Good      7 Average        1010          720.0      1962    98058   \n",
       "10398   Average      7 Average        2850            0.0      1994    98033   \n",
       "...         ...            ...         ...            ...       ...      ...   \n",
       "6175    Average         8 Good        2440            0.0      1993    98058   \n",
       "9704    Average       9 Better        2410          650.0      2012    98029   \n",
       "11190   Average         8 Good        1810            0.0      1993    98038   \n",
       "9256    Average       9 Better        2650          870.0      2006    98136   \n",
       "8787    Average  6 Low Average        2000            0.0      1946    98056   \n",
       "\n",
       "           lat     long  sqft_living15  sqft_lot15  \n",
       "18108  47.6455 -121.901           2450       21876  \n",
       "20609  47.6001 -122.178           2620       14733  \n",
       "13874  47.6342 -122.171           1870       10800  \n",
       "3279   47.4586 -122.175           1369        8418  \n",
       "10398  47.6813 -122.187           1870        9900  \n",
       "...        ...      ...            ...         ...  \n",
       "6175   47.4501 -122.126           2450        8109  \n",
       "9704   47.5522 -122.001           3170        3634  \n",
       "11190  47.3724 -122.042           1810        6200  \n",
       "9256   47.5317 -122.391           2930        6458  \n",
       "8787   47.5217 -122.182           2100        9681  \n",
       "\n",
       "[15727 rows x 16 columns]"
      ]
     },
     "execution_count": 5,
     "metadata": {},
     "output_type": "execute_result"
    }
   ],
   "source": [
    "x_train"
   ]
  },
  {
   "cell_type": "code",
   "execution_count": 6,
   "metadata": {},
   "outputs": [
    {
     "ename": "NameError",
     "evalue": "name 'colList' is not defined",
     "output_type": "error",
     "traceback": [
      "\u001b[1;31m---------------------------------------------------------------------------\u001b[0m",
      "\u001b[1;31mNameError\u001b[0m                                 Traceback (most recent call last)",
      "\u001b[1;32m<ipython-input-6-651476ff3054>\u001b[0m in \u001b[0;36m<module>\u001b[1;34m\u001b[0m\n\u001b[1;32m----> 1\u001b[1;33m \u001b[0mprint\u001b[0m\u001b[1;33m(\u001b[0m\u001b[0mx_train\u001b[0m\u001b[1;33m[\u001b[0m\u001b[1;33m[\u001b[0m\u001b[1;33m*\u001b[0m\u001b[0mcolList\u001b[0m\u001b[1;33m]\u001b[0m\u001b[1;33m]\u001b[0m\u001b[1;33m.\u001b[0m\u001b[0mshape\u001b[0m\u001b[1;33m,\u001b[0m \u001b[0my_train\u001b[0m\u001b[1;33m[\u001b[0m\u001b[1;33m[\u001b[0m\u001b[1;33m*\u001b[0m\u001b[0mcolList\u001b[0m\u001b[1;33m]\u001b[0m\u001b[1;33m]\u001b[0m\u001b[1;33m.\u001b[0m\u001b[0mshape\u001b[0m\u001b[1;33m,\u001b[0m\u001b[1;33m)\u001b[0m\u001b[1;33m\u001b[0m\u001b[1;33m\u001b[0m\u001b[0m\n\u001b[0m",
      "\u001b[1;31mNameError\u001b[0m: name 'colList' is not defined"
     ]
    }
   ],
   "source": [
    "# print(x_train[[*colList]].shape, y_train[[*colList]].shape,)"
   ]
  },
  {
   "cell_type": "code",
   "execution_count": null,
   "metadata": {},
   "outputs": [],
   "source": [
    "def evaluateModel(X_tr,X_te,y_tr,y_te):\n",
    "    '''\n",
    "    Function takes in data, makes a model, and evaluates it.\n",
    "    '''\n",
    "    # Create and fit model\n",
    "    model = sm.OLS(y_tr,sm.add_constant(X_tr)).fit()\n",
    "    \n",
    "    # Print sumary (if OLS)\n",
    "    display(model.summary());\n",
    "    \n",
    "    # Grab predictions\n",
    "    tr_preds = model.predict(sm.add_constant(X_tr))\n",
    "    te_preds = model.predict(sm.add_constant(X_te))\n",
    "    \n",
    "    # Evaluate on train and test\n",
    "    print(\"\\nEvaluation Statistics:\")\n",
    "    print(f\"Train R2 Score: {r2_score(y_tr, tr_preds):.4f}\")\n",
    "    print(f\"Train MAE Score: ${mean_absolute_error(y_tr, tr_preds):.4f}\")\n",
    "    print(f\"Train RMSE Score: ${mean_squared_error(y_tr, tr_preds, squared=False):.4f}\")\n",
    "    print(\"*\"*20)\n",
    "    print(f\"Test R2 Score: {r2_score(y_te, te_preds):.4f}\")\n",
    "    print(f\"Test MAE Score: ${mean_absolute_error(y_te, te_preds):.4f}\")\n",
    "    print(f\"Test RMSE Score: ${mean_squared_error(y_te, te_preds, squared=False):.4f}\")\n",
    "    \n",
    "    # Visualize residuals\n",
    "    plt.figure(figsize=(9,5))\n",
    "    plt.scatter(tr_preds, y_tr-tr_preds, label='Train')\n",
    "    plt.scatter(te_preds, y_te-te_preds, label='Test')\n",
    "    plt.axhline(y=0, color = 'red', label = '0')\n",
    "    plt.ticklabel_format(style='plain')\n",
    "    plt.xlabel('predictions')\n",
    "    plt.ylabel('residuals')\n",
    "    plt.legend()\n",
    "    plt.show();\n",
    "    \n",
    "    return"
   ]
  },
  {
   "cell_type": "code",
   "execution_count": null,
   "metadata": {},
   "outputs": [],
   "source": [
    "def graphPreds(X_tr,X_te,y_tr,y_te):\n",
    "    # Visualize predictions\n",
    "    plt.figure(figsize=(9,5))\n",
    "    plt.scatter(X_tr,y_tr,label='Train')\n",
    "    plt.scatter(X_te,y_te,label='Test')\n",
    "    plt.plot(X_tr, tr_preds, label=\"Train Line of Best Fit\", color='black')\n",
    "    plt.plot(X_te,te_preds, label=\"Test Line of Best Fit\", color = 'green')\n",
    "    plt.hlines(y=y_tr.mean(),xmin=X_tr.min(), xmax=X_tr.max(), color='red',label=f'Average: {y_tr.mean():.2f}')\n",
    "    plt.ylabel('target')\n",
    "    plt.legend()\n",
    "    plt.ticklabel_format(style='plain')\n",
    "    plt.show();"
   ]
  },
  {
   "cell_type": "code",
   "execution_count": null,
   "metadata": {
    "scrolled": true
   },
   "outputs": [],
   "source": [
    "df['grade'].value_counts()"
   ]
  },
  {
   "cell_type": "code",
   "execution_count": null,
   "metadata": {},
   "outputs": [],
   "source": [
    "colList = ['bedrooms','sqft_living','yr_built','condition','grade','bathroom']\n",
    "catCols = ['condition','grade']"
   ]
  },
  {
   "cell_type": "code",
   "execution_count": null,
   "metadata": {
    "scrolled": true
   },
   "outputs": [],
   "source": [
    "encoder = OneHotEncoder(handle_unknown='error',drop='first',categories='auto')\n",
    "ct = ColumnTransformer(transformers=[('ohe', encoder, catCols)],remainder='passthrough',sparse_threshold=0)\n",
    "ct.fit(x_train[[*colList]])\n",
    "encoded_xtrain = ct.transform(x_train[[*colList]])\n",
    "encoded_xtest = ct.transform(x_test[[*colList]])\n",
    "\n",
    "encoded_xtrain = pd.DataFrame(encoded_xtrain,columns=ct.get_feature_names())\n",
    "encoded_xtest = pd.DataFrame(encoded_xtest,columns=ct.get_feature_names())"
   ]
  },
  {
   "cell_type": "code",
   "execution_count": null,
   "metadata": {},
   "outputs": [],
   "source": [
    "encoded_xtrain"
   ]
  },
  {
   "cell_type": "code",
   "execution_count": null,
   "metadata": {},
   "outputs": [],
   "source": []
  },
  {
   "cell_type": "code",
   "execution_count": null,
   "metadata": {},
   "outputs": [],
   "source": []
  },
  {
   "cell_type": "code",
   "execution_count": null,
   "metadata": {},
   "outputs": [],
   "source": []
  },
  {
   "cell_type": "code",
   "execution_count": null,
   "metadata": {},
   "outputs": [],
   "source": []
  },
  {
   "cell_type": "code",
   "execution_count": null,
   "metadata": {},
   "outputs": [],
   "source": []
  },
  {
   "cell_type": "code",
   "execution_count": null,
   "metadata": {},
   "outputs": [],
   "source": [
    "colList = ['bedrooms','bathrooms','sqft_living','sqft_lot','floors','sqft_above','sqft_basement','sqft_living15','sqft_lot15']"
   ]
  },
  {
   "cell_type": "code",
   "execution_count": null,
   "metadata": {
    "scrolled": false
   },
   "outputs": [],
   "source": [
    "evaluateModel(x_train[['sqft_living']],x_test[['sqft_living']],y_train,y_test)"
   ]
  },
  {
   "cell_type": "code",
   "execution_count": null,
   "metadata": {},
   "outputs": [],
   "source": [
    "print(x_train[[*colList]].shape, y_train[[*colList]].shape,)"
   ]
  },
  {
   "cell_type": "code",
   "execution_count": null,
   "metadata": {
    "scrolled": false
   },
   "outputs": [],
   "source": [
    "evaluateModel(x_train[[*colList]],x_test[[*colList]],y_train,y_test)"
   ]
  },
  {
   "cell_type": "code",
   "execution_count": null,
   "metadata": {},
   "outputs": [],
   "source": [
    "for col in colList:\n",
    "    evaluateModel(x_train[[col]],x_test[[col]],y_train,y_test)"
   ]
  },
  {
   "cell_type": "code",
   "execution_count": null,
   "metadata": {},
   "outputs": [],
   "source": [
    "sinkModel = sm.OLS(y_train,sm.add_constant(x_train[[*colList]])).fit()"
   ]
  },
  {
   "cell_type": "code",
   "execution_count": null,
   "metadata": {
    "scrolled": false
   },
   "outputs": [],
   "source": [
    "sns.set(rc={'figure.figsize':(15, 10)})\n",
    "\n",
    "sns.heatmap(data=df[['price',*colList]].corr(),annot=True)"
   ]
  },
  {
   "cell_type": "code",
   "execution_count": null,
   "metadata": {},
   "outputs": [],
   "source": [
    "df[[*colList]]"
   ]
  },
  {
   "cell_type": "code",
   "execution_count": null,
   "metadata": {},
   "outputs": [],
   "source": [
    "x_train"
   ]
  },
  {
   "cell_type": "code",
   "execution_count": null,
   "metadata": {},
   "outputs": [],
   "source": [
    "cat_cols = ['condition','grade']\n",
    "encoder = OneHotEncoder(handle_unknown='error',drop='first',categories='auto')\n",
    "ct = ColumnTransformer(transformers=[('ohe', encoder, cat_cols)],remainder='passthrough')\n",
    "ct.fit(x_train)\n",
    "x_train_enc = ct.transform(x_train)\n",
    "x_test_enc = ct.transform(x_train)\n",
    "\n",
    "scaler = StandardScaler()\n",
    "scaler.fit(x_train_enc)\n",
    "x_train_scaled = scaler.transform(x_train_enc)\n",
    "x_test_scaled = scaler.transform(x_test_enc)\n",
    "x_train_sc_df = pd.DataFrame(x_train_scaled, columns= ct.get_feature_names())\n",
    "x_train_sc_df"
   ]
  },
  {
   "cell_type": "code",
   "execution_count": null,
   "metadata": {},
   "outputs": [],
   "source": [
    "train_df = pd.DataFrame(x_train_enc, columns= ct.get_feature_names())\n",
    "train_df['target'] = y_train"
   ]
  },
  {
   "cell_type": "code",
   "execution_count": null,
   "metadata": {},
   "outputs": [],
   "source": [
    "train_df.corr()['target'].map(abs).sort_values(ascending=False)"
   ]
  },
  {
   "cell_type": "code",
   "execution_count": null,
   "metadata": {},
   "outputs": [],
   "source": [
    "len(y_train)"
   ]
  },
  {
   "cell_type": "code",
   "execution_count": null,
   "metadata": {},
   "outputs": [],
   "source": [
    "lr_simple = LinearRegression()\n",
    "lr_simple.fit(x_train_sc_df[['sqft_living']], y_train)\n",
    "\n",
    "print(f\"Train R2: {lr_simple.score(x_train_sc_df[['sqft_living']], y_train):.4f}\")\n",
    "x_test_sc_df = pd.DataFrame(x_test_scaled, columns= ct.get_feature_names())\n",
    "print(f\"Test R2: {lr_simple.score(x_test_sc_df[['sqft_living']], y_test):.4f}\")"
   ]
  },
  {
   "cell_type": "code",
   "execution_count": null,
   "metadata": {},
   "outputs": [],
   "source": []
  },
  {
   "cell_type": "code",
   "execution_count": null,
   "metadata": {},
   "outputs": [],
   "source": []
  },
  {
   "cell_type": "code",
   "execution_count": null,
   "metadata": {},
   "outputs": [],
   "source": []
  },
  {
   "cell_type": "code",
   "execution_count": null,
   "metadata": {},
   "outputs": [],
   "source": [
    "cat_cols = ['condition', 'grade']\n",
    "\n",
    "# create an encoder object\n",
    "encoder = OneHotEncoder(handle_unknown='error',\n",
    "                        drop='first',\n",
    "                        categories='auto')\n",
    "\n",
    "# Create an columntransformer object\n",
    "ct = ColumnTransformer(transformers=[('ohe', encoder, cat_cols)],\n",
    "                       remainder='passthrough')\n",
    "ct.fit(x_train)\n",
    "x_train_enc = ct.transform(x_train)\n",
    "x_test_enc = ct.transform(x_test)"
   ]
  },
  {
   "cell_type": "code",
   "execution_count": null,
   "metadata": {},
   "outputs": [],
   "source": [
    "scaler = StandardScaler()\n",
    "\n",
    "scaler.fit(x_train_enc)\n",
    "\n",
    "x_train_scaled = scaler.transform(x_train_enc)\n",
    "x_test_scaled = scaler.transform(x_test_enc)\n",
    "\n",
    "x_train_sc_df = pd.DataFrame(x_train_scaled, columns= ct.get_feature_names())\n",
    "x_test_sc_df = pd.DataFrame(x_test_scaled, columns= ct.get_feature_names())"
   ]
  },
  {
   "cell_type": "code",
   "execution_count": null,
   "metadata": {},
   "outputs": [],
   "source": [
    "evaluateModel(x_train_sc_df,x_test_sc_df,y_test,y_train)"
   ]
  },
  {
   "cell_type": "code",
   "execution_count": null,
   "metadata": {},
   "outputs": [],
   "source": [
    "lr = LinearRegression()\n",
    "\n",
    "# Run with our most strongly correlated feature\n",
    "lr.fit(x_train_sc_df, y_train)\n",
    "\n",
    "# Score on train\n",
    "print(f\"Train R2: {lr.score(x_train_sc_df, y_train):.4f}\")\n",
    "\n",
    "# Make a df version of test to score it too\n",
    "x_test_sc_df = pd.DataFrame(x_test_scaled, columns= ct.get_feature_names())\n",
    "print(f\"Test R2: {lr.score(x_test_sc_df, y_test):.4f}\")"
   ]
  },
  {
   "cell_type": "code",
   "execution_count": null,
   "metadata": {},
   "outputs": [],
   "source": [
    "lr.predict()"
   ]
  },
  {
   "cell_type": "code",
   "execution_count": 8,
   "metadata": {},
   "outputs": [
    {
     "ename": "ModuleNotFoundError",
     "evalue": "No module named 'utils.py'; 'utils' is not a package",
     "output_type": "error",
     "traceback": [
      "\u001b[1;31m---------------------------------------------------------------------------\u001b[0m",
      "\u001b[1;31mModuleNotFoundError\u001b[0m                       Traceback (most recent call last)",
      "\u001b[1;32m<ipython-input-8-b157a259181f>\u001b[0m in \u001b[0;36m<module>\u001b[1;34m\u001b[0m\n\u001b[1;32m----> 1\u001b[1;33m \u001b[1;32mimport\u001b[0m \u001b[0mutils\u001b[0m\u001b[1;33m.\u001b[0m\u001b[0mpy\u001b[0m\u001b[1;33m\u001b[0m\u001b[1;33m\u001b[0m\u001b[0m\n\u001b[0m",
      "\u001b[1;31mModuleNotFoundError\u001b[0m: No module named 'utils.py'; 'utils' is not a package"
     ]
    }
   ],
   "source": []
  },
  {
   "cell_type": "code",
   "execution_count": null,
   "metadata": {},
   "outputs": [],
   "source": []
  }
 ],
 "metadata": {
  "kernelspec": {
   "display_name": "Python (learn-env)",
   "language": "python",
   "name": "learn-env"
  },
  "language_info": {
   "codemirror_mode": {
    "name": "ipython",
    "version": 3
   },
   "file_extension": ".py",
   "mimetype": "text/x-python",
   "name": "python",
   "nbconvert_exporter": "python",
   "pygments_lexer": "ipython3",
   "version": "3.8.5"
  }
 },
 "nbformat": 4,
 "nbformat_minor": 4
}
