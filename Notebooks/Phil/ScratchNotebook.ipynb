{
 "cells": [
  {
   "cell_type": "code",
   "execution_count": 1,
   "metadata": {},
   "outputs": [
    {
     "name": "stdout",
     "output_type": "stream",
     "text": [
      "clean_kc_house_data.csv\n",
      "column_names.md\n",
      "kc_house_data.csv\n"
     ]
    }
   ],
   "source": [
    "!ls ../../data"
   ]
  },
  {
   "cell_type": "code",
   "execution_count": 2,
   "metadata": {},
   "outputs": [],
   "source": [
    "import pandas as pd\n",
    "import numpy as np\n",
    "import seaborn as sns\n",
    "import matplotlib.pyplot as plt\n",
    "import statsmodels.api as sm\n",
    "from sklearn.model_selection import train_test_split\n",
    "from sklearn.preprocessing import OneHotEncoder\n",
    "from sklearn.compose import ColumnTransformer\n",
    "from sklearn.preprocessing import StandardScaler, MinMaxScaler\n",
    "from sklearn.linear_model import LinearRegression\n",
    "from sklearn.metrics import r2_score, mean_squared_error"
   ]
  },
  {
   "cell_type": "code",
   "execution_count": 4,
   "metadata": {},
   "outputs": [],
   "source": [
    "df = pd.read_csv('../../data/clean_kc_house_data.csv')"
   ]
  },
  {
   "cell_type": "code",
   "execution_count": 5,
   "metadata": {},
   "outputs": [
    {
     "name": "stdout",
     "output_type": "stream",
     "text": [
      "<class 'pandas.core.frame.DataFrame'>\n",
      "RangeIndex: 20970 entries, 0 to 20969\n",
      "Data columns (total 19 columns):\n",
      " #   Column         Non-Null Count  Dtype  \n",
      "---  ------         --------------  -----  \n",
      " 0   Unnamed: 0     20970 non-null  int64  \n",
      " 1   id             20970 non-null  int64  \n",
      " 2   date           20970 non-null  object \n",
      " 3   price          20970 non-null  float64\n",
      " 4   bedrooms       20970 non-null  int64  \n",
      " 5   bathrooms      20970 non-null  float64\n",
      " 6   sqft_living    20970 non-null  int64  \n",
      " 7   sqft_lot       20970 non-null  int64  \n",
      " 8   floors         20970 non-null  float64\n",
      " 9   condition      20970 non-null  object \n",
      " 10  grade          20970 non-null  object \n",
      " 11  sqft_above     20970 non-null  int64  \n",
      " 12  sqft_basement  20970 non-null  float64\n",
      " 13  yr_built       20970 non-null  int64  \n",
      " 14  zipcode        20970 non-null  int64  \n",
      " 15  lat            20970 non-null  float64\n",
      " 16  long           20970 non-null  float64\n",
      " 17  sqft_living15  20970 non-null  int64  \n",
      " 18  sqft_lot15     20970 non-null  int64  \n",
      "dtypes: float64(6), int64(10), object(3)\n",
      "memory usage: 3.0+ MB\n"
     ]
    }
   ],
   "source": [
    "df.info()"
   ]
  },
  {
   "cell_type": "code",
   "execution_count": null,
   "metadata": {},
   "outputs": [],
   "source": []
  }
 ],
 "metadata": {
  "kernelspec": {
   "display_name": "Python (learn-env)",
   "language": "python",
   "name": "learn-env"
  },
  "language_info": {
   "codemirror_mode": {
    "name": "ipython",
    "version": 3
   },
   "file_extension": ".py",
   "mimetype": "text/x-python",
   "name": "python",
   "nbconvert_exporter": "python",
   "pygments_lexer": "ipython3",
   "version": "3.8.5"
  }
 },
 "nbformat": 4,
 "nbformat_minor": 4
}
