{
 "cells": [
  {
   "cell_type": "code",
   "execution_count": 27,
   "metadata": {},
   "outputs": [],
   "source": [
    "import pandas as pd\n",
    "import numpy as np\n",
    "import seaborn as sns\n",
    "import matplotlib.pyplot as plt\n",
    "import statsmodels.api as sm\n",
    "from sklearn.impute import SimpleImputer\n",
    "from sklearn.model_selection import train_test_split\n",
    "from sklearn.preprocessing import OneHotEncoder\n",
    "from sklearn.compose import ColumnTransformer\n",
    "from sklearn.preprocessing import StandardScaler, MinMaxScaler\n",
    "from sklearn.linear_model import LinearRegression\n",
    "from sklearn.metrics import r2_score, mean_squared_error, mean_absolute_error"
   ]
  },
  {
   "cell_type": "code",
   "execution_count": 28,
   "metadata": {},
   "outputs": [],
   "source": [
    "df = pd.read_csv('../../data/final_clean_data.csv')\n",
    "df = df.drop(columns=['Unnamed: 0','date'])"
   ]
  },
  {
   "cell_type": "code",
   "execution_count": 29,
   "metadata": {},
   "outputs": [],
   "source": [
    "x = df[['sqft_living','bedrooms','grade']]\n",
    "y = df['price']\n",
    "x_train, x_test, y_train, y_test = train_test_split(x, y, test_size=0.25, random_state = 23)"
   ]
  },
  {
   "cell_type": "code",
   "execution_count": 30,
   "metadata": {},
   "outputs": [],
   "source": [
    "cat_cols = ['grade']\n",
    "encoder = OneHotEncoder(handle_unknown='error',drop='first',categories='auto')\n",
    "ct = ColumnTransformer(transformers=[('ohe', encoder, cat_cols)],remainder='passthrough',sparse_threshold=0)\n",
    "ct.fit(x_train)\n",
    "x_train_enc = ct.transform(x_train)"
   ]
  },
  {
   "cell_type": "code",
   "execution_count": 31,
   "metadata": {},
   "outputs": [],
   "source": [
    "scaler = StandardScaler()\n",
    "scaler.fit(x_train_enc)\n",
    "x_train_scaled = scaler.transform(x_train_enc)"
   ]
  },
  {
   "cell_type": "code",
   "execution_count": 32,
   "metadata": {},
   "outputs": [],
   "source": [
    "lr = LinearRegression()\n",
    "lr = lr.fit(x_train_scaled,y_train)"
   ]
  },
  {
   "cell_type": "code",
   "execution_count": 33,
   "metadata": {},
   "outputs": [],
   "source": [
    "mean_sqft = x_train['sqft_living'].mean()\n",
    "median_bedrooms = x_train['bedrooms'].median()\n",
    "mode_grade = x_train['grade'].mode()"
   ]
  },
  {
   "cell_type": "code",
   "execution_count": 34,
   "metadata": {},
   "outputs": [],
   "source": [
    "def take_inputs():\n",
    "    sqft_living = input(\"Enter the sqare foot living area of the house:\\t\")\n",
    "    bedrooms = input(\"Enter the number of bedrooms in the house:\\t\")\n",
    "    grade = str(input(\"Enter the grade of the house:\\t\"))\n",
    "    \n",
    "    \n",
    "    for unique_grade in [*x_train['grade'].value_counts().index]:\n",
    "        if str(grade) in unique_grade:\n",
    "            grade = unique_grade\n",
    "    return [sqft_living, bedrooms, grade]"
   ]
  },
  {
   "cell_type": "code",
   "execution_count": 35,
   "metadata": {},
   "outputs": [],
   "source": [
    "def predict_price(fitted_ct,\n",
    "                  fitted_scaler,\n",
    "                  fitted_lr,\n",
    "                  sqft_living = mean_sqft,\n",
    "                  bedrooms = median_bedrooms,\n",
    "                  grade = mode_grade\n",
    "                 ):\n",
    "    '''\n",
    "    Takes in information about a house and uses the linear regression model, column transformer, and scaler passed to it\n",
    "    to predict the value of a house matching the values passed in.\n",
    "    If a value is not passed to the function it will use a measure of central tendency depending on the column.\n",
    "    '''\n",
    "    # create a single row dataframe to test the model on and get the price prediction\n",
    "    test_df = pd.DataFrame({'sqft_living': [sqft_living], 'bedrooms': [bedrooms], 'grade': [grade]})\n",
    "    \n",
    "    # encode categorical values\n",
    "    test_df_enc = ct.transform(test_df)\n",
    "    \n",
    "    # scale data\n",
    "    test_df_scaled = scaler.transform(test_df_enc)\n",
    "    \n",
    "    # run the linear regression and return the prediction\n",
    "    prediction = lr.predict(test_df_scaled)\n",
    "    \n",
    "    print(F\"\\nPredicted price of this house:\\t{int(prediction[0])}.\")\n",
    "    return"
   ]
  },
  {
   "cell_type": "code",
   "execution_count": 39,
   "metadata": {
    "scrolled": false
   },
   "outputs": [
    {
     "name": "stdout",
     "output_type": "stream",
     "text": [
      "Enter the sqare foot living area of the house:\t1\n",
      "Enter the number of bedrooms in the house:\t1\n",
      "Enter the grade of the house:\t1\n",
      "\n",
      "Predicted price of this house:\t554426.\n"
     ]
    }
   ],
   "source": [
    "user_input = take_inputs()\n",
    "function_input = [ct,scaler,lr,*user_input]\n",
    "predict_price(*function_input)"
   ]
  },
  {
   "cell_type": "code",
   "execution_count": null,
   "metadata": {},
   "outputs": [],
   "source": []
  }
 ],
 "metadata": {
  "kernelspec": {
   "display_name": "Python (learn-env)",
   "language": "python",
   "name": "learn-env"
  },
  "language_info": {
   "codemirror_mode": {
    "name": "ipython",
    "version": 3
   },
   "file_extension": ".py",
   "mimetype": "text/x-python",
   "name": "python",
   "nbconvert_exporter": "python",
   "pygments_lexer": "ipython3",
   "version": "3.8.5"
  }
 },
 "nbformat": 4,
 "nbformat_minor": 4
}
