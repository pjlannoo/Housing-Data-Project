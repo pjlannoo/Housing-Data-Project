{
 "cells": [
  {
   "cell_type": "code",
   "execution_count": 1,
   "metadata": {},
   "outputs": [],
   "source": [
    "import pandas as pd\n",
    "import numpy as np\n",
    "import seaborn as sns\n",
    "import matplotlib.pyplot as plt\n",
    "import statsmodels.api as sm\n",
    "from sklearn.impute import SimpleImputer\n",
    "from sklearn.model_selection import train_test_split\n",
    "from sklearn.preprocessing import OneHotEncoder\n",
    "from sklearn.compose import ColumnTransformer\n",
    "from sklearn.preprocessing import StandardScaler, MinMaxScaler\n",
    "from sklearn.linear_model import LinearRegression\n",
    "from sklearn.metrics import r2_score, mean_squared_error, mean_absolute_error\n",
    "import random"
   ]
  },
  {
   "cell_type": "code",
   "execution_count": 2,
   "metadata": {},
   "outputs": [],
   "source": [
    "df = pd.read_csv('../../data/final_clean_data.csv')\n",
    "df = df.drop(columns=['Unnamed: 0','date'])"
   ]
  },
  {
   "cell_type": "code",
   "execution_count": 3,
   "metadata": {},
   "outputs": [],
   "source": [
    "x = df[['sqft_living', 'floors', 'sqft_basement', 'yr_built', 'bedrooms', 'grade']]\n",
    "y = df['price']\n",
    "x_train, x_test, y_train, y_test = train_test_split(x, y, test_size=0.25, random_state = 23)"
   ]
  },
  {
   "cell_type": "code",
   "execution_count": 4,
   "metadata": {},
   "outputs": [
    {
     "data": {
      "text/plain": [
       "7 Average        8520\n",
       "8 Good           5656\n",
       "9 Better         2330\n",
       "6 Low Average    1936\n",
       "10 Very Good      947\n",
       "Name: grade, dtype: int64"
      ]
     },
     "execution_count": 4,
     "metadata": {},
     "output_type": "execute_result"
    }
   ],
   "source": [
    "df['grade'].value_counts()"
   ]
  },
  {
   "cell_type": "code",
   "execution_count": 4,
   "metadata": {},
   "outputs": [
    {
     "data": {
      "text/html": [
       "<div>\n",
       "<style scoped>\n",
       "    .dataframe tbody tr th:only-of-type {\n",
       "        vertical-align: middle;\n",
       "    }\n",
       "\n",
       "    .dataframe tbody tr th {\n",
       "        vertical-align: top;\n",
       "    }\n",
       "\n",
       "    .dataframe thead th {\n",
       "        text-align: right;\n",
       "    }\n",
       "</style>\n",
       "<table border=\"1\" class=\"dataframe\">\n",
       "  <thead>\n",
       "    <tr style=\"text-align: right;\">\n",
       "      <th></th>\n",
       "      <th>sqft_living</th>\n",
       "      <th>floors</th>\n",
       "      <th>sqft_basement</th>\n",
       "      <th>yr_built</th>\n",
       "      <th>bedrooms</th>\n",
       "      <th>grade</th>\n",
       "    </tr>\n",
       "  </thead>\n",
       "  <tbody>\n",
       "    <tr>\n",
       "      <th>7662</th>\n",
       "      <td>3020</td>\n",
       "      <td>2.0</td>\n",
       "      <td>0.0</td>\n",
       "      <td>1989</td>\n",
       "      <td>3</td>\n",
       "      <td>9 Better</td>\n",
       "    </tr>\n",
       "    <tr>\n",
       "      <th>12756</th>\n",
       "      <td>2660</td>\n",
       "      <td>1.0</td>\n",
       "      <td>910.0</td>\n",
       "      <td>1977</td>\n",
       "      <td>4</td>\n",
       "      <td>8 Good</td>\n",
       "    </tr>\n",
       "    <tr>\n",
       "      <th>17759</th>\n",
       "      <td>3070</td>\n",
       "      <td>2.0</td>\n",
       "      <td>0.0</td>\n",
       "      <td>2005</td>\n",
       "      <td>4</td>\n",
       "      <td>10 Very Good</td>\n",
       "    </tr>\n",
       "    <tr>\n",
       "      <th>19012</th>\n",
       "      <td>2890</td>\n",
       "      <td>1.0</td>\n",
       "      <td>1060.0</td>\n",
       "      <td>1976</td>\n",
       "      <td>6</td>\n",
       "      <td>8 Good</td>\n",
       "    </tr>\n",
       "    <tr>\n",
       "      <th>477</th>\n",
       "      <td>1250</td>\n",
       "      <td>1.0</td>\n",
       "      <td>0.0</td>\n",
       "      <td>1964</td>\n",
       "      <td>3</td>\n",
       "      <td>7 Average</td>\n",
       "    </tr>\n",
       "    <tr>\n",
       "      <th>...</th>\n",
       "      <td>...</td>\n",
       "      <td>...</td>\n",
       "      <td>...</td>\n",
       "      <td>...</td>\n",
       "      <td>...</td>\n",
       "      <td>...</td>\n",
       "    </tr>\n",
       "    <tr>\n",
       "      <th>6175</th>\n",
       "      <td>1820</td>\n",
       "      <td>1.5</td>\n",
       "      <td>0.0</td>\n",
       "      <td>1921</td>\n",
       "      <td>4</td>\n",
       "      <td>8 Good</td>\n",
       "    </tr>\n",
       "    <tr>\n",
       "      <th>9704</th>\n",
       "      <td>1890</td>\n",
       "      <td>2.0</td>\n",
       "      <td>0.0</td>\n",
       "      <td>1993</td>\n",
       "      <td>3</td>\n",
       "      <td>8 Good</td>\n",
       "    </tr>\n",
       "    <tr>\n",
       "      <th>11190</th>\n",
       "      <td>760</td>\n",
       "      <td>1.0</td>\n",
       "      <td>0.0</td>\n",
       "      <td>1941</td>\n",
       "      <td>2</td>\n",
       "      <td>6 Low Average</td>\n",
       "    </tr>\n",
       "    <tr>\n",
       "      <th>9256</th>\n",
       "      <td>2760</td>\n",
       "      <td>1.0</td>\n",
       "      <td>1380.0</td>\n",
       "      <td>1964</td>\n",
       "      <td>5</td>\n",
       "      <td>7 Average</td>\n",
       "    </tr>\n",
       "    <tr>\n",
       "      <th>8787</th>\n",
       "      <td>960</td>\n",
       "      <td>1.0</td>\n",
       "      <td>0.0</td>\n",
       "      <td>1951</td>\n",
       "      <td>2</td>\n",
       "      <td>7 Average</td>\n",
       "    </tr>\n",
       "  </tbody>\n",
       "</table>\n",
       "<p>14541 rows × 6 columns</p>\n",
       "</div>"
      ],
      "text/plain": [
       "       sqft_living  floors  sqft_basement  yr_built  bedrooms          grade\n",
       "7662          3020     2.0            0.0      1989         3       9 Better\n",
       "12756         2660     1.0          910.0      1977         4         8 Good\n",
       "17759         3070     2.0            0.0      2005         4   10 Very Good\n",
       "19012         2890     1.0         1060.0      1976         6         8 Good\n",
       "477           1250     1.0            0.0      1964         3      7 Average\n",
       "...            ...     ...            ...       ...       ...            ...\n",
       "6175          1820     1.5            0.0      1921         4         8 Good\n",
       "9704          1890     2.0            0.0      1993         3         8 Good\n",
       "11190          760     1.0            0.0      1941         2  6 Low Average\n",
       "9256          2760     1.0         1380.0      1964         5      7 Average\n",
       "8787           960     1.0            0.0      1951         2      7 Average\n",
       "\n",
       "[14541 rows x 6 columns]"
      ]
     },
     "execution_count": 4,
     "metadata": {},
     "output_type": "execute_result"
    }
   ],
   "source": [
    "x_train"
   ]
  },
  {
   "cell_type": "code",
   "execution_count": 5,
   "metadata": {},
   "outputs": [],
   "source": [
    "cat_cols = ['grade']\n",
    "encoder = OneHotEncoder(handle_unknown='error',drop='first',categories='auto')\n",
    "ct = ColumnTransformer(transformers=[('ohe', encoder, cat_cols)],remainder='passthrough',sparse_threshold=0)\n",
    "ct.fit(x_train)\n",
    "x_train_enc = ct.transform(x_train)"
   ]
  },
  {
   "cell_type": "code",
   "execution_count": 6,
   "metadata": {},
   "outputs": [
    {
     "data": {
      "text/plain": [
       "7 Average        6338\n",
       "8 Good           4250\n",
       "9 Better         1783\n",
       "6 Low Average    1465\n",
       "10 Very Good      705\n",
       "Name: grade, dtype: int64"
      ]
     },
     "execution_count": 6,
     "metadata": {},
     "output_type": "execute_result"
    }
   ],
   "source": [
    "x_train['grade'].value_counts()"
   ]
  },
  {
   "cell_type": "code",
   "execution_count": 7,
   "metadata": {},
   "outputs": [],
   "source": [
    "scaler = StandardScaler()\n",
    "scaler.fit(x_train_enc)\n",
    "x_train_scaled = scaler.transform(x_train_enc)"
   ]
  },
  {
   "cell_type": "code",
   "execution_count": 8,
   "metadata": {},
   "outputs": [],
   "source": [
    "lr = LinearRegression()\n",
    "lr = lr.fit(x_train_scaled,y_train)"
   ]
  },
  {
   "cell_type": "code",
   "execution_count": 9,
   "metadata": {},
   "outputs": [],
   "source": [
    "mean_living= x_train['sqft_living'].mean()\n",
    "median_floors = x_train['floors'].median()\n",
    "mean_basement = x_train['sqft_basement'].mean()\n",
    "median_yr = x_train['yr_built'].median()\n",
    "median_bedrooms = x_train['bedrooms'].median()\n",
    "mode_grade = x_train['grade'].mode().values[0]\n",
    "\n",
    "central_tendency = [mean_living,median_floors,mean_basement,median_yr,median_bedrooms]"
   ]
  },
  {
   "cell_type": "code",
   "execution_count": 10,
   "metadata": {},
   "outputs": [],
   "source": [
    "def take_inputs():\n",
    "    living_val = input(\"Enter the square foot living area of the house:\\t\")\n",
    "    floors_val = input(\"Enter the number of floors the house has:\\t\")\n",
    "    basement_val = input(\"Enter the square foot basement area of the house:\\t\")\n",
    "    yr_val = input(\"Enter the year the house was built:\\t\")\n",
    "    bedrooms_val = input(\"Enter the number of bedrooms in the house:\\t\")\n",
    "    grade_val = str(input(\"Enter the grade of the house:\\t\"))\n",
    "    \n",
    "    feature_list = [living_val,floors_val,basement_val,yr_val,bedrooms_val]\n",
    "    count = 0\n",
    "    for feature in feature_list:\n",
    "        if feature == '':\n",
    "            feature_list[count] = float(central_tendency[count])\n",
    "        count += 1\n",
    "        \n",
    "    for unique_grade in [*x_train['grade'].value_counts().index]:\n",
    "        if str(grade_val) in unique_grade:\n",
    "            print(f\"Using {unique_grade}\")\n",
    "            grade_val = unique_grade\n",
    "    if grade_val not in [*x_train['grade'].value_counts().index]:\n",
    "        grade_val = mode_grade\n",
    "        print(\"Value not in model, using '7 Average' in place.\")\n",
    "    return [*feature_list,grade_val]"
   ]
  },
  {
   "cell_type": "code",
   "execution_count": 11,
   "metadata": {},
   "outputs": [],
   "source": [
    "def predict_price(fitted_ct,\n",
    "                  fitted_scaler,\n",
    "                  fitted_lr,\n",
    "                  sqft_living = mean_living,\n",
    "                  floors = median_floors,\n",
    "                  sqft_basement = mean_basement,\n",
    "                  yr_built = median_yr,\n",
    "                  bedrooms = median_bedrooms,\n",
    "                  grade = mode_grade\n",
    "                 ):\n",
    "    '''\n",
    "    Takes in information about a house and uses the linear regression model, column transformer, and scaler passed to it\n",
    "    to predict the value of a house matching the values passed in.\n",
    "    If a value is not passed to the function it will use a measure of central tendency depending on the column.\n",
    "    '''\n",
    "    # create a single row dataframe to test the model on and get the price prediction\n",
    "    test_df = pd.DataFrame({'sqft_living': [sqft_living],\n",
    "                            'floors': [floors],\n",
    "                            'sqft_basement': sqft_basement,\n",
    "                            'yr_built':yr_built,\n",
    "                            'bedrooms': [bedrooms],\n",
    "                            'grade': [grade]\n",
    "                           })\n",
    "    display(test_df)\n",
    "    # encode categorical values\n",
    "    test_df_enc = fitted_ct.transform(test_df)\n",
    "    \n",
    "    # scale data\n",
    "    test_df_scaled = fitted_scaler.transform(test_df_enc)\n",
    "    \n",
    "    # run the linear regression and return the prediction\n",
    "    prediction = lr.predict(test_df_scaled)\n",
    "    \n",
    "    print(F\"\\nPredicted price of this house:\\t{int(prediction[0])}.\")\n",
    "    return"
   ]
  },
  {
   "cell_type": "code",
   "execution_count": 12,
   "metadata": {},
   "outputs": [
    {
     "data": {
      "text/plain": [
       "7 Average        6338\n",
       "8 Good           4250\n",
       "9 Better         1783\n",
       "6 Low Average    1465\n",
       "10 Very Good      705\n",
       "Name: grade, dtype: int64"
      ]
     },
     "execution_count": 12,
     "metadata": {},
     "output_type": "execute_result"
    }
   ],
   "source": [
    "x_train['grade'].value_counts()"
   ]
  },
  {
   "cell_type": "code",
   "execution_count": 38,
   "metadata": {},
   "outputs": [
    {
     "data": {
      "text/plain": [
       "sqft_living           2200\n",
       "floors                 1.5\n",
       "sqft_basement            0\n",
       "yr_built              1971\n",
       "bedrooms                 4\n",
       "grade            7 Average\n",
       "Name: 4811, dtype: object"
      ]
     },
     "metadata": {},
     "output_type": "display_data"
    },
    {
     "data": {
      "text/plain": [
       "522500.0"
      ]
     },
     "metadata": {},
     "output_type": "display_data"
    }
   ],
   "source": [
    "rand_int = random.randint(0,4848)\n",
    "display(x_test.iloc[rand_int],\n",
    "y_test.iloc[rand_int])"
   ]
  },
  {
   "cell_type": "code",
   "execution_count": 39,
   "metadata": {
    "scrolled": true
   },
   "outputs": [
    {
     "name": "stdout",
     "output_type": "stream",
     "text": [
      "Enter the square foot living area of the house:\t2200\n",
      "Enter the number of floors the house has:\t1.5\n",
      "Enter the square foot basement area of the house:\t0\n",
      "Enter the year the house was built:\t1971\n",
      "Enter the number of bedrooms in the house:\t4\n",
      "Enter the grade of the house:\t7\n",
      "Using 7 Average\n"
     ]
    },
    {
     "data": {
      "text/html": [
       "<div>\n",
       "<style scoped>\n",
       "    .dataframe tbody tr th:only-of-type {\n",
       "        vertical-align: middle;\n",
       "    }\n",
       "\n",
       "    .dataframe tbody tr th {\n",
       "        vertical-align: top;\n",
       "    }\n",
       "\n",
       "    .dataframe thead th {\n",
       "        text-align: right;\n",
       "    }\n",
       "</style>\n",
       "<table border=\"1\" class=\"dataframe\">\n",
       "  <thead>\n",
       "    <tr style=\"text-align: right;\">\n",
       "      <th></th>\n",
       "      <th>sqft_living</th>\n",
       "      <th>floors</th>\n",
       "      <th>sqft_basement</th>\n",
       "      <th>yr_built</th>\n",
       "      <th>bedrooms</th>\n",
       "      <th>grade</th>\n",
       "    </tr>\n",
       "  </thead>\n",
       "  <tbody>\n",
       "    <tr>\n",
       "      <th>0</th>\n",
       "      <td>2200</td>\n",
       "      <td>1.5</td>\n",
       "      <td>0</td>\n",
       "      <td>1971</td>\n",
       "      <td>4</td>\n",
       "      <td>7 Average</td>\n",
       "    </tr>\n",
       "  </tbody>\n",
       "</table>\n",
       "</div>"
      ],
      "text/plain": [
       "  sqft_living floors sqft_basement yr_built bedrooms      grade\n",
       "0        2200    1.5             0     1971        4  7 Average"
      ]
     },
     "metadata": {},
     "output_type": "display_data"
    },
    {
     "name": "stdout",
     "output_type": "stream",
     "text": [
      "\n",
      "Predicted price of this house:\t416022.\n"
     ]
    }
   ],
   "source": [
    "user_input = take_inputs()\n",
    "function_input = [ct,scaler,lr,*user_input]\n",
    "predict_price(*function_input)"
   ]
  },
  {
   "cell_type": "code",
   "execution_count": null,
   "metadata": {},
   "outputs": [],
   "source": []
  }
 ],
 "metadata": {
  "kernelspec": {
   "display_name": "Python (learn-env)",
   "language": "python",
   "name": "learn-env"
  },
  "language_info": {
   "codemirror_mode": {
    "name": "ipython",
    "version": 3
   },
   "file_extension": ".py",
   "mimetype": "text/x-python",
   "name": "python",
   "nbconvert_exporter": "python",
   "pygments_lexer": "ipython3",
   "version": "3.8.5"
  }
 },
 "nbformat": 4,
 "nbformat_minor": 4
}
