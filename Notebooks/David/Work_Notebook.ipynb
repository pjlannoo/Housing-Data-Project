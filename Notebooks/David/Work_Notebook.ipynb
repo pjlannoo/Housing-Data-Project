{
 "cells": [
  {
   "cell_type": "markdown",
   "metadata": {},
   "source": [
    "# Exploring data"
   ]
  },
  {
   "cell_type": "code",
   "execution_count": 2,
   "metadata": {},
   "outputs": [],
   "source": [
    "import pandas as pd\n",
    "import numpy as np\n",
    "\n",
    "import matplotlib.pyplot as plt\n",
    "import seaborn as sns\n",
    "\n",
    "import statsmodels.api as sm\n",
    "from sklearn.model_selection import train_test_split\n",
    "from sklearn.preprocessing import OneHotEncoder\n",
    "from sklearn.compose import ColumnTransformer\n",
    "from sklearn.preprocessing import StandardScaler, MinMaxScaler\n",
    "from sklearn.linear_model import LinearRegression\n",
    "from sklearn.metrics import r2_score, mean_squared_error\n"
   ]
  },
  {
   "cell_type": "markdown",
   "metadata": {},
   "source": [
    "## Fixing data"
   ]
  },
  {
   "cell_type": "code",
   "execution_count": 25,
   "metadata": {
    "scrolled": true
   },
   "outputs": [
    {
     "name": "stdout",
     "output_type": "stream",
     "text": [
      "clean_kc_house_data.csv\n",
      "column_names.md\n",
      "kc_house_data.csv\n"
     ]
    }
   ],
   "source": [
    "!ls ../../data"
   ]
  },
  {
   "cell_type": "code",
   "execution_count": 26,
   "metadata": {},
   "outputs": [],
   "source": [
    "data = pd.read_csv('../../data/clean_kc_house_data.csv')"
   ]
  },
  {
   "cell_type": "code",
   "execution_count": 27,
   "metadata": {},
   "outputs": [],
   "source": [
    "data = data.drop(columns='Unnamed: 0')"
   ]
  },
  {
   "cell_type": "code",
   "execution_count": 28,
   "metadata": {},
   "outputs": [
    {
     "data": {
      "text/html": [
       "<div>\n",
       "<style scoped>\n",
       "    .dataframe tbody tr th:only-of-type {\n",
       "        vertical-align: middle;\n",
       "    }\n",
       "\n",
       "    .dataframe tbody tr th {\n",
       "        vertical-align: top;\n",
       "    }\n",
       "\n",
       "    .dataframe thead th {\n",
       "        text-align: right;\n",
       "    }\n",
       "</style>\n",
       "<table border=\"1\" class=\"dataframe\">\n",
       "  <thead>\n",
       "    <tr style=\"text-align: right;\">\n",
       "      <th></th>\n",
       "      <th>id</th>\n",
       "      <th>date</th>\n",
       "      <th>price</th>\n",
       "      <th>bedrooms</th>\n",
       "      <th>bathrooms</th>\n",
       "      <th>sqft_living</th>\n",
       "      <th>sqft_lot</th>\n",
       "      <th>floors</th>\n",
       "      <th>condition</th>\n",
       "      <th>grade</th>\n",
       "      <th>sqft_above</th>\n",
       "      <th>sqft_basement</th>\n",
       "      <th>yr_built</th>\n",
       "      <th>zipcode</th>\n",
       "      <th>lat</th>\n",
       "      <th>long</th>\n",
       "      <th>sqft_living15</th>\n",
       "      <th>sqft_lot15</th>\n",
       "    </tr>\n",
       "  </thead>\n",
       "  <tbody>\n",
       "    <tr>\n",
       "      <th>0</th>\n",
       "      <td>1000102</td>\n",
       "      <td>2015-04-22</td>\n",
       "      <td>300000.0</td>\n",
       "      <td>6</td>\n",
       "      <td>3.00</td>\n",
       "      <td>2400</td>\n",
       "      <td>9373</td>\n",
       "      <td>2.0</td>\n",
       "      <td>Average</td>\n",
       "      <td>7 Average</td>\n",
       "      <td>2400</td>\n",
       "      <td>0.0</td>\n",
       "      <td>1991</td>\n",
       "      <td>98002</td>\n",
       "      <td>47.3262</td>\n",
       "      <td>-122.214</td>\n",
       "      <td>2060</td>\n",
       "      <td>7316</td>\n",
       "    </tr>\n",
       "    <tr>\n",
       "      <th>1</th>\n",
       "      <td>1200019</td>\n",
       "      <td>2014-05-08</td>\n",
       "      <td>647500.0</td>\n",
       "      <td>4</td>\n",
       "      <td>1.75</td>\n",
       "      <td>2060</td>\n",
       "      <td>26036</td>\n",
       "      <td>1.0</td>\n",
       "      <td>Good</td>\n",
       "      <td>8 Good</td>\n",
       "      <td>1160</td>\n",
       "      <td>900.0</td>\n",
       "      <td>1947</td>\n",
       "      <td>98166</td>\n",
       "      <td>47.4444</td>\n",
       "      <td>-122.351</td>\n",
       "      <td>2590</td>\n",
       "      <td>21891</td>\n",
       "    </tr>\n",
       "    <tr>\n",
       "      <th>2</th>\n",
       "      <td>1200021</td>\n",
       "      <td>2014-08-11</td>\n",
       "      <td>400000.0</td>\n",
       "      <td>3</td>\n",
       "      <td>1.00</td>\n",
       "      <td>1460</td>\n",
       "      <td>43000</td>\n",
       "      <td>1.0</td>\n",
       "      <td>Average</td>\n",
       "      <td>7 Average</td>\n",
       "      <td>1460</td>\n",
       "      <td>0.0</td>\n",
       "      <td>1952</td>\n",
       "      <td>98166</td>\n",
       "      <td>47.4434</td>\n",
       "      <td>-122.347</td>\n",
       "      <td>2250</td>\n",
       "      <td>20023</td>\n",
       "    </tr>\n",
       "    <tr>\n",
       "      <th>3</th>\n",
       "      <td>2800031</td>\n",
       "      <td>2015-04-01</td>\n",
       "      <td>235000.0</td>\n",
       "      <td>3</td>\n",
       "      <td>1.00</td>\n",
       "      <td>1430</td>\n",
       "      <td>7599</td>\n",
       "      <td>1.5</td>\n",
       "      <td>Good</td>\n",
       "      <td>6 Low Average</td>\n",
       "      <td>1010</td>\n",
       "      <td>420.0</td>\n",
       "      <td>1930</td>\n",
       "      <td>98168</td>\n",
       "      <td>47.4783</td>\n",
       "      <td>-122.265</td>\n",
       "      <td>1290</td>\n",
       "      <td>10320</td>\n",
       "    </tr>\n",
       "    <tr>\n",
       "      <th>4</th>\n",
       "      <td>3600057</td>\n",
       "      <td>2015-03-19</td>\n",
       "      <td>402500.0</td>\n",
       "      <td>4</td>\n",
       "      <td>2.00</td>\n",
       "      <td>1650</td>\n",
       "      <td>3504</td>\n",
       "      <td>1.0</td>\n",
       "      <td>Average</td>\n",
       "      <td>7 Average</td>\n",
       "      <td>760</td>\n",
       "      <td>890.0</td>\n",
       "      <td>1951</td>\n",
       "      <td>98144</td>\n",
       "      <td>47.5803</td>\n",
       "      <td>-122.294</td>\n",
       "      <td>1480</td>\n",
       "      <td>3504</td>\n",
       "    </tr>\n",
       "  </tbody>\n",
       "</table>\n",
       "</div>"
      ],
      "text/plain": [
       "        id        date     price  bedrooms  bathrooms  sqft_living  sqft_lot  \\\n",
       "0  1000102  2015-04-22  300000.0         6       3.00         2400      9373   \n",
       "1  1200019  2014-05-08  647500.0         4       1.75         2060     26036   \n",
       "2  1200021  2014-08-11  400000.0         3       1.00         1460     43000   \n",
       "3  2800031  2015-04-01  235000.0         3       1.00         1430      7599   \n",
       "4  3600057  2015-03-19  402500.0         4       2.00         1650      3504   \n",
       "\n",
       "   floors condition          grade  sqft_above  sqft_basement  yr_built  \\\n",
       "0     2.0   Average      7 Average        2400            0.0      1991   \n",
       "1     1.0      Good         8 Good        1160          900.0      1947   \n",
       "2     1.0   Average      7 Average        1460            0.0      1952   \n",
       "3     1.5      Good  6 Low Average        1010          420.0      1930   \n",
       "4     1.0   Average      7 Average         760          890.0      1951   \n",
       "\n",
       "   zipcode      lat     long  sqft_living15  sqft_lot15  \n",
       "0    98002  47.3262 -122.214           2060        7316  \n",
       "1    98166  47.4444 -122.351           2590       21891  \n",
       "2    98166  47.4434 -122.347           2250       20023  \n",
       "3    98168  47.4783 -122.265           1290       10320  \n",
       "4    98144  47.5803 -122.294           1480        3504  "
      ]
     },
     "execution_count": 28,
     "metadata": {},
     "output_type": "execute_result"
    }
   ],
   "source": [
    "data.head()"
   ]
  },
  {
   "cell_type": "code",
   "execution_count": 29,
   "metadata": {},
   "outputs": [],
   "source": [
    "data['date'] = pd.to_datetime(data['date'], format='%Y-%m-%d')"
   ]
  },
  {
   "cell_type": "code",
   "execution_count": 30,
   "metadata": {
    "scrolled": true
   },
   "outputs": [
    {
     "data": {
      "text/html": [
       "<div>\n",
       "<style scoped>\n",
       "    .dataframe tbody tr th:only-of-type {\n",
       "        vertical-align: middle;\n",
       "    }\n",
       "\n",
       "    .dataframe tbody tr th {\n",
       "        vertical-align: top;\n",
       "    }\n",
       "\n",
       "    .dataframe thead th {\n",
       "        text-align: right;\n",
       "    }\n",
       "</style>\n",
       "<table border=\"1\" class=\"dataframe\">\n",
       "  <thead>\n",
       "    <tr style=\"text-align: right;\">\n",
       "      <th></th>\n",
       "      <th>id</th>\n",
       "      <th>date</th>\n",
       "      <th>price</th>\n",
       "      <th>bedrooms</th>\n",
       "      <th>bathrooms</th>\n",
       "      <th>sqft_living</th>\n",
       "      <th>sqft_lot</th>\n",
       "      <th>floors</th>\n",
       "      <th>condition</th>\n",
       "      <th>grade</th>\n",
       "      <th>sqft_above</th>\n",
       "      <th>sqft_basement</th>\n",
       "      <th>yr_built</th>\n",
       "      <th>zipcode</th>\n",
       "      <th>lat</th>\n",
       "      <th>long</th>\n",
       "      <th>sqft_living15</th>\n",
       "      <th>sqft_lot15</th>\n",
       "    </tr>\n",
       "  </thead>\n",
       "  <tbody>\n",
       "    <tr>\n",
       "      <th>0</th>\n",
       "      <td>1000102</td>\n",
       "      <td>2015-04-22</td>\n",
       "      <td>300000.0</td>\n",
       "      <td>6</td>\n",
       "      <td>3.00</td>\n",
       "      <td>2400</td>\n",
       "      <td>9373</td>\n",
       "      <td>2.0</td>\n",
       "      <td>Average</td>\n",
       "      <td>7 Average</td>\n",
       "      <td>2400</td>\n",
       "      <td>0.0</td>\n",
       "      <td>1991</td>\n",
       "      <td>98002</td>\n",
       "      <td>47.3262</td>\n",
       "      <td>-122.214</td>\n",
       "      <td>2060</td>\n",
       "      <td>7316</td>\n",
       "    </tr>\n",
       "    <tr>\n",
       "      <th>1</th>\n",
       "      <td>1200019</td>\n",
       "      <td>2014-05-08</td>\n",
       "      <td>647500.0</td>\n",
       "      <td>4</td>\n",
       "      <td>1.75</td>\n",
       "      <td>2060</td>\n",
       "      <td>26036</td>\n",
       "      <td>1.0</td>\n",
       "      <td>Good</td>\n",
       "      <td>8 Good</td>\n",
       "      <td>1160</td>\n",
       "      <td>900.0</td>\n",
       "      <td>1947</td>\n",
       "      <td>98166</td>\n",
       "      <td>47.4444</td>\n",
       "      <td>-122.351</td>\n",
       "      <td>2590</td>\n",
       "      <td>21891</td>\n",
       "    </tr>\n",
       "    <tr>\n",
       "      <th>2</th>\n",
       "      <td>1200021</td>\n",
       "      <td>2014-08-11</td>\n",
       "      <td>400000.0</td>\n",
       "      <td>3</td>\n",
       "      <td>1.00</td>\n",
       "      <td>1460</td>\n",
       "      <td>43000</td>\n",
       "      <td>1.0</td>\n",
       "      <td>Average</td>\n",
       "      <td>7 Average</td>\n",
       "      <td>1460</td>\n",
       "      <td>0.0</td>\n",
       "      <td>1952</td>\n",
       "      <td>98166</td>\n",
       "      <td>47.4434</td>\n",
       "      <td>-122.347</td>\n",
       "      <td>2250</td>\n",
       "      <td>20023</td>\n",
       "    </tr>\n",
       "    <tr>\n",
       "      <th>3</th>\n",
       "      <td>2800031</td>\n",
       "      <td>2015-04-01</td>\n",
       "      <td>235000.0</td>\n",
       "      <td>3</td>\n",
       "      <td>1.00</td>\n",
       "      <td>1430</td>\n",
       "      <td>7599</td>\n",
       "      <td>1.5</td>\n",
       "      <td>Good</td>\n",
       "      <td>6 Low Average</td>\n",
       "      <td>1010</td>\n",
       "      <td>420.0</td>\n",
       "      <td>1930</td>\n",
       "      <td>98168</td>\n",
       "      <td>47.4783</td>\n",
       "      <td>-122.265</td>\n",
       "      <td>1290</td>\n",
       "      <td>10320</td>\n",
       "    </tr>\n",
       "    <tr>\n",
       "      <th>4</th>\n",
       "      <td>3600057</td>\n",
       "      <td>2015-03-19</td>\n",
       "      <td>402500.0</td>\n",
       "      <td>4</td>\n",
       "      <td>2.00</td>\n",
       "      <td>1650</td>\n",
       "      <td>3504</td>\n",
       "      <td>1.0</td>\n",
       "      <td>Average</td>\n",
       "      <td>7 Average</td>\n",
       "      <td>760</td>\n",
       "      <td>890.0</td>\n",
       "      <td>1951</td>\n",
       "      <td>98144</td>\n",
       "      <td>47.5803</td>\n",
       "      <td>-122.294</td>\n",
       "      <td>1480</td>\n",
       "      <td>3504</td>\n",
       "    </tr>\n",
       "  </tbody>\n",
       "</table>\n",
       "</div>"
      ],
      "text/plain": [
       "        id       date     price  bedrooms  bathrooms  sqft_living  sqft_lot  \\\n",
       "0  1000102 2015-04-22  300000.0         6       3.00         2400      9373   \n",
       "1  1200019 2014-05-08  647500.0         4       1.75         2060     26036   \n",
       "2  1200021 2014-08-11  400000.0         3       1.00         1460     43000   \n",
       "3  2800031 2015-04-01  235000.0         3       1.00         1430      7599   \n",
       "4  3600057 2015-03-19  402500.0         4       2.00         1650      3504   \n",
       "\n",
       "   floors condition          grade  sqft_above  sqft_basement  yr_built  \\\n",
       "0     2.0   Average      7 Average        2400            0.0      1991   \n",
       "1     1.0      Good         8 Good        1160          900.0      1947   \n",
       "2     1.0   Average      7 Average        1460            0.0      1952   \n",
       "3     1.5      Good  6 Low Average        1010          420.0      1930   \n",
       "4     1.0   Average      7 Average         760          890.0      1951   \n",
       "\n",
       "   zipcode      lat     long  sqft_living15  sqft_lot15  \n",
       "0    98002  47.3262 -122.214           2060        7316  \n",
       "1    98166  47.4444 -122.351           2590       21891  \n",
       "2    98166  47.4434 -122.347           2250       20023  \n",
       "3    98168  47.4783 -122.265           1290       10320  \n",
       "4    98144  47.5803 -122.294           1480        3504  "
      ]
     },
     "execution_count": 30,
     "metadata": {},
     "output_type": "execute_result"
    }
   ],
   "source": [
    "data.head()"
   ]
  },
  {
   "cell_type": "markdown",
   "metadata": {},
   "source": [
    "# Target: Predicting sale price"
   ]
  },
  {
   "cell_type": "markdown",
   "metadata": {},
   "source": [
    "## Simple model"
   ]
  },
  {
   "cell_type": "code",
   "execution_count": 32,
   "metadata": {},
   "outputs": [
    {
     "name": "stdout",
     "output_type": "stream",
     "text": [
      "<class 'pandas.core.frame.DataFrame'>\n",
      "RangeIndex: 20970 entries, 0 to 20969\n",
      "Data columns (total 18 columns):\n",
      " #   Column         Non-Null Count  Dtype         \n",
      "---  ------         --------------  -----         \n",
      " 0   id             20970 non-null  int64         \n",
      " 1   date           20970 non-null  datetime64[ns]\n",
      " 2   price          20970 non-null  float64       \n",
      " 3   bedrooms       20970 non-null  int64         \n",
      " 4   bathrooms      20970 non-null  float64       \n",
      " 5   sqft_living    20970 non-null  int64         \n",
      " 6   sqft_lot       20970 non-null  int64         \n",
      " 7   floors         20970 non-null  float64       \n",
      " 8   condition      20970 non-null  object        \n",
      " 9   grade          20970 non-null  object        \n",
      " 10  sqft_above     20970 non-null  int64         \n",
      " 11  sqft_basement  20970 non-null  float64       \n",
      " 12  yr_built       20970 non-null  int64         \n",
      " 13  zipcode        20970 non-null  int64         \n",
      " 14  lat            20970 non-null  float64       \n",
      " 15  long           20970 non-null  float64       \n",
      " 16  sqft_living15  20970 non-null  int64         \n",
      " 17  sqft_lot15     20970 non-null  int64         \n",
      "dtypes: datetime64[ns](1), float64(6), int64(9), object(2)\n",
      "memory usage: 2.9+ MB\n"
     ]
    }
   ],
   "source": [
    "data.info()"
   ]
  },
  {
   "cell_type": "code",
   "execution_count": 37,
   "metadata": {
    "scrolled": false
   },
   "outputs": [
    {
     "data": {
      "text/plain": [
       "<AxesSubplot:>"
      ]
     },
     "execution_count": 37,
     "metadata": {},
     "output_type": "execute_result"
    },
    {
     "data": {
      "image/png": "[encoded data removed]",
      "text/plain": [
       "<Figure size 864x720 with 2 Axes>"
      ]
     },
     "metadata": {
      "needs_background": "light"
     },
     "output_type": "display_data"
    }
   ],
   "source": [
    "plt.subplots(figsize=(12, 10))\n",
    "sns.heatmap(data.corr(), annot=True)"
   ]
  },
  {
   "cell_type": "code",
   "execution_count": 41,
   "metadata": {},
   "outputs": [],
   "source": [
    "X = data['sqft_living']\n",
    "y = data['price']"
   ]
  },
  {
   "cell_type": "code",
   "execution_count": 42,
   "metadata": {},
   "outputs": [
    {
     "data": {
      "text/html": [
       "<table class=\"simpletable\">\n",
       "<caption>OLS Regression Results</caption>\n",
       "<tr>\n",
       "  <th>Dep. Variable:</th>          <td>price</td>      <th>  R-squared:         </th>  <td>   0.492</td>  \n",
       "</tr>\n",
       "<tr>\n",
       "  <th>Model:</th>                   <td>OLS</td>       <th>  Adj. R-squared:    </th>  <td>   0.492</td>  \n",
       "</tr>\n",
       "<tr>\n",
       "  <th>Method:</th>             <td>Least Squares</td>  <th>  F-statistic:       </th>  <td>2.033e+04</td> \n",
       "</tr>\n",
       "<tr>\n",
       "  <th>Date:</th>             <td>Mon, 27 Jun 2022</td> <th>  Prob (F-statistic):</th>   <td>  0.00</td>   \n",
       "</tr>\n",
       "<tr>\n",
       "  <th>Time:</th>                 <td>16:38:07</td>     <th>  Log-Likelihood:    </th> <td>-2.9141e+05</td>\n",
       "</tr>\n",
       "<tr>\n",
       "  <th>No. Observations:</th>      <td> 20970</td>      <th>  AIC:               </th>  <td>5.828e+05</td> \n",
       "</tr>\n",
       "<tr>\n",
       "  <th>Df Residuals:</th>          <td> 20968</td>      <th>  BIC:               </th>  <td>5.828e+05</td> \n",
       "</tr>\n",
       "<tr>\n",
       "  <th>Df Model:</th>              <td>     1</td>      <th>                     </th>      <td> </td>     \n",
       "</tr>\n",
       "<tr>\n",
       "  <th>Covariance Type:</th>      <td>nonrobust</td>    <th>                     </th>      <td> </td>     \n",
       "</tr>\n",
       "</table>\n",
       "<table class=\"simpletable\">\n",
       "<tr>\n",
       "       <td></td>          <th>coef</th>     <th>std err</th>      <th>t</th>      <th>P>|t|</th>  <th>[0.025</th>    <th>0.975]</th>  \n",
       "</tr>\n",
       "<tr>\n",
       "  <th>const</th>       <td>-4.359e+04</td> <td> 4489.339</td> <td>   -9.710</td> <td> 0.000</td> <td>-5.24e+04</td> <td>-3.48e+04</td>\n",
       "</tr>\n",
       "<tr>\n",
       "  <th>sqft_living</th> <td>  281.0601</td> <td>    1.971</td> <td>  142.586</td> <td> 0.000</td> <td>  277.197</td> <td>  284.924</td>\n",
       "</tr>\n",
       "</table>\n",
       "<table class=\"simpletable\">\n",
       "<tr>\n",
       "  <th>Omnibus:</th>       <td>14429.476</td> <th>  Durbin-Watson:     </th>  <td>   1.049</td> \n",
       "</tr>\n",
       "<tr>\n",
       "  <th>Prob(Omnibus):</th>  <td> 0.000</td>   <th>  Jarque-Bera (JB):  </th> <td>534860.122</td>\n",
       "</tr>\n",
       "<tr>\n",
       "  <th>Skew:</th>           <td> 2.833</td>   <th>  Prob(JB):          </th>  <td>    0.00</td> \n",
       "</tr>\n",
       "<tr>\n",
       "  <th>Kurtosis:</th>       <td>27.084</td>   <th>  Cond. No.          </th>  <td>5.64e+03</td> \n",
       "</tr>\n",
       "</table><br/><br/>Notes:<br/>[1] Standard Errors assume that the covariance matrix of the errors is correctly specified.<br/>[2] The condition number is large, 5.64e+03. This might indicate that there are<br/>strong multicollinearity or other numerical problems."
      ],
      "text/plain": [
       "<class 'statsmodels.iolib.summary.Summary'>\n",
       "\"\"\"\n",
       "                            OLS Regression Results                            \n",
       "==============================================================================\n",
       "Dep. Variable:                  price   R-squared:                       0.492\n",
       "Model:                            OLS   Adj. R-squared:                  0.492\n",
       "Method:                 Least Squares   F-statistic:                 2.033e+04\n",
       "Date:                Mon, 27 Jun 2022   Prob (F-statistic):               0.00\n",
       "Time:                        16:38:07   Log-Likelihood:            -2.9141e+05\n",
       "No. Observations:               20970   AIC:                         5.828e+05\n",
       "Df Residuals:                   20968   BIC:                         5.828e+05\n",
       "Df Model:                           1                                         \n",
       "Covariance Type:            nonrobust                                         \n",
       "===============================================================================\n",
       "                  coef    std err          t      P>|t|      [0.025      0.975]\n",
       "-------------------------------------------------------------------------------\n",
       "const       -4.359e+04   4489.339     -9.710      0.000   -5.24e+04   -3.48e+04\n",
       "sqft_living   281.0601      1.971    142.586      0.000     277.197     284.924\n",
       "==============================================================================\n",
       "Omnibus:                    14429.476   Durbin-Watson:                   1.049\n",
       "Prob(Omnibus):                  0.000   Jarque-Bera (JB):           534860.122\n",
       "Skew:                           2.833   Prob(JB):                         0.00\n",
       "Kurtosis:                      27.084   Cond. No.                     5.64e+03\n",
       "==============================================================================\n",
       "\n",
       "Notes:\n",
       "[1] Standard Errors assume that the covariance matrix of the errors is correctly specified.\n",
       "[2] The condition number is large, 5.64e+03. This might indicate that there are\n",
       "strong multicollinearity or other numerical problems.\n",
       "\"\"\""
      ]
     },
     "execution_count": 42,
     "metadata": {},
     "output_type": "execute_result"
    }
   ],
   "source": [
    "simple_model = sm.OLS(y, sm.add_constant(X)).fit()\n",
    "simple_model.summary()"
   ]
  },
  {
   "cell_type": "code",
   "execution_count": 69,
   "metadata": {},
   "outputs": [],
   "source": [
    "#multiple linear regression, kitchen-sink model\n",
    "X_mult = data.drop(columns=['id', 'zipcode', 'lat', 'long', 'date', 'condition', 'grade', 'price'])\n",
    "y = data['price']\n",
    "X_train, X_test, y_train, y_test = train_test_split(X_mult, y, test_size=0.33, random_state=42)"
   ]
  },
  {
   "cell_type": "code",
   "execution_count": 70,
   "metadata": {
    "scrolled": true
   },
   "outputs": [
    {
     "data": {
      "text/html": [
       "<div>\n",
       "<style scoped>\n",
       "    .dataframe tbody tr th:only-of-type {\n",
       "        vertical-align: middle;\n",
       "    }\n",
       "\n",
       "    .dataframe tbody tr th {\n",
       "        vertical-align: top;\n",
       "    }\n",
       "\n",
       "    .dataframe thead th {\n",
       "        text-align: right;\n",
       "    }\n",
       "</style>\n",
       "<table border=\"1\" class=\"dataframe\">\n",
       "  <thead>\n",
       "    <tr style=\"text-align: right;\">\n",
       "      <th></th>\n",
       "      <th>bedrooms</th>\n",
       "      <th>bathrooms</th>\n",
       "      <th>sqft_living</th>\n",
       "      <th>sqft_lot</th>\n",
       "      <th>floors</th>\n",
       "      <th>sqft_above</th>\n",
       "      <th>sqft_basement</th>\n",
       "      <th>yr_built</th>\n",
       "      <th>sqft_living15</th>\n",
       "      <th>sqft_lot15</th>\n",
       "    </tr>\n",
       "  </thead>\n",
       "  <tbody>\n",
       "    <tr>\n",
       "      <th>0</th>\n",
       "      <td>6</td>\n",
       "      <td>3.00</td>\n",
       "      <td>2400</td>\n",
       "      <td>9373</td>\n",
       "      <td>2.0</td>\n",
       "      <td>2400</td>\n",
       "      <td>0.0</td>\n",
       "      <td>1991</td>\n",
       "      <td>2060</td>\n",
       "      <td>7316</td>\n",
       "    </tr>\n",
       "    <tr>\n",
       "      <th>1</th>\n",
       "      <td>4</td>\n",
       "      <td>1.75</td>\n",
       "      <td>2060</td>\n",
       "      <td>26036</td>\n",
       "      <td>1.0</td>\n",
       "      <td>1160</td>\n",
       "      <td>900.0</td>\n",
       "      <td>1947</td>\n",
       "      <td>2590</td>\n",
       "      <td>21891</td>\n",
       "    </tr>\n",
       "  </tbody>\n",
       "</table>\n",
       "</div>"
      ],
      "text/plain": [
       "   bedrooms  bathrooms  sqft_living  sqft_lot  floors  sqft_above  \\\n",
       "0         6       3.00         2400      9373     2.0        2400   \n",
       "1         4       1.75         2060     26036     1.0        1160   \n",
       "\n",
       "   sqft_basement  yr_built  sqft_living15  sqft_lot15  \n",
       "0            0.0      1991           2060        7316  \n",
       "1          900.0      1947           2590       21891  "
      ]
     },
     "execution_count": 70,
     "metadata": {},
     "output_type": "execute_result"
    }
   ],
   "source": [
    "X_mult.head(2)"
   ]
  },
  {
   "cell_type": "code",
   "execution_count": 78,
   "metadata": {},
   "outputs": [],
   "source": [
    "scaler = StandardScaler()\n",
    "\n",
    "scaler.fit(X_train)\n",
    "\n",
    "X_train_scaled = scaler.transform(X_train)\n",
    "X_test_scaled = scaler.transform(X_test)"
   ]
  },
  {
   "cell_type": "code",
   "execution_count": 79,
   "metadata": {},
   "outputs": [],
   "source": [
    "lr = LinearRegression()\n",
    "\n",
    "lr.fit(X_train_scaled, y_train)\n",
    "\n",
    "train_pred = lr.predict(X_train_scaled) \n",
    "test_pred = lr.predict(X_test_scaled)"
   ]
  },
  {
   "cell_type": "code",
   "execution_count": 80,
   "metadata": {},
   "outputs": [
    {
     "name": "stdout",
     "output_type": "stream",
     "text": [
      "Train R2 Score: 0.5743\n",
      "Train RMSE Score: 240523.3079\n",
      "********************\n",
      "Test R2 Score: 0.5573\n",
      "Test RMSE Score: 244450.4204\n"
     ]
    }
   ],
   "source": [
    "print(f\"Train R2 Score: {r2_score(y_train, train_pred):.4f}\")\n",
    "print(f\"Train RMSE Score: {mean_squared_error(y_train, train_pred, squared=False):.4f}\")\n",
    "print(\"*\"*20)\n",
    "print(f\"Test R2 Score: {r2_score(y_test, test_pred):.4f}\")\n",
    "print(f\"Test RMSE Score: {mean_squared_error(y_test, test_pred, squared=False):.4f}\")"
   ]
  },
  {
   "cell_type": "code",
   "execution_count": 81,
   "metadata": {},
   "outputs": [
    {
     "data": {
      "text/plain": [
       "array([ -69553.30108045,   53486.5449481 ,  123459.10100615,\n",
       "         -1629.0061298 ,   31633.0452346 ,  103630.98732247,\n",
       "         61397.75958285, -105497.78174248,   61016.15883158,\n",
       "        -16962.70489288])"
      ]
     },
     "execution_count": 81,
     "metadata": {},
     "output_type": "execute_result"
    }
   ],
   "source": [
    "lr.coef_"
   ]
  },
  {
   "cell_type": "code",
   "execution_count": 89,
   "metadata": {},
   "outputs": [
    {
     "data": {
      "text/plain": [
       "{'bedrooms': -69553.30108045258,\n",
       " 'bathrooms': 53486.544948102724,\n",
       " 'sqft_living': 123459.10100614601,\n",
       " 'sqft_lot': -1629.0061298032674,\n",
       " 'floors': 31633.045234600406,\n",
       " 'sqft_above': 103630.9873224662,\n",
       " 'sqft_basement': 61397.759582845705,\n",
       " 'yr_built': -105497.78174248211,\n",
       " 'sqft_living15': 61016.158831577,\n",
       " 'sqft_lot15': -16962.70489288345}"
      ]
     },
     "execution_count": 89,
     "metadata": {},
     "output_type": "execute_result"
    }
   ],
   "source": [
    "# Look at the coefs from our sklearn model\n",
    "dict(zip(X_mult.keys(), lr.coef_))"
   ]
  },
  {
   "cell_type": "code",
   "execution_count": null,
   "metadata": {},
   "outputs": [],
   "source": []
  }
 ],
 "metadata": {
  "kernelspec": {
   "display_name": "Python (learn-env)",
   "language": "python",
   "name": "learn-env"
  },
  "language_info": {
   "codemirror_mode": {
    "name": "ipython",
    "version": 3
   },
   "file_extension": ".py",
   "mimetype": "text/x-python",
   "name": "python",
   "nbconvert_exporter": "python",
   "pygments_lexer": "ipython3",
   "version": "3.8.5"
  }
 },
 "nbformat": 4,
 "nbformat_minor": 4
}
